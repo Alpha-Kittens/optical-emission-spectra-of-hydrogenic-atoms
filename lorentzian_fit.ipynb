{
 "cells": [
  {
   "cell_type": "code",
   "execution_count": 69,
   "metadata": {},
   "outputs": [],
   "source": [
    "#Imports\n",
    "import numpy as np\n",
    "import csv\n",
    "import math\n",
    "import matplotlib.pyplot as plt\n",
    "import scipy.stats as stats\n",
    "from scipy.stats import norm, chi2 # normal distribution, chi squared distribution\n",
    "from numpy import exp, pi, sqrt\n",
    "import lmfit"
   ]
  },
  {
   "cell_type": "code",
   "execution_count": 75,
   "metadata": {},
   "outputs": [],
   "source": [
    "def fit_to_lorentzian(data):\n",
    "    #type of data is numpy array w/ 2 columns\n",
    "    def Lorentzian(x, amp, cen, scale):\n",
    "        return amp * (1/(pi*scale))*(1/(1+(((x-cen)/scale)**2)))\n",
    "    \n",
    "    \n",
    "    model = lmfit.Model(Lorentzian)\n",
    "    \n",
    "    x_axis = data[:, 0]\n",
    "    y_axis = data[:, 1]\n",
    "    \n",
    "    start_amp = max(y_axis)\n",
    "    start_cen = x_axis[np.argmax(y_axis)]\n",
    "    \n",
    "    result = model.fit(y_axis, x=x_axis, amp=start_amp, cen=start_cen, scale=0.5)\n",
    "    \n",
    "    \n",
    "    return result\n",
    "\n",
    "\n"
   ]
  },
  {
   "cell_type": "code",
   "execution_count": 76,
   "metadata": {},
   "outputs": [],
   "source": [
    "def show_results(result):\n",
    "    lmfit.report_fit(result)\n",
    "    plt.figure()\n",
    "    plt.figure(figsize=(100, 100))\n",
    "    result.plot()"
   ]
  },
  {
   "cell_type": "code",
   "execution_count": 67,
   "metadata": {},
   "outputs": [
    {
     "data": {
      "text/plain": [
       "'\\ndata = np.zeros([100, 2])\\nfor i in range(0, 100):\\n    data[i, 0] = i\\n    data[i,1] = 2 * (1/(pi*0.25))*(1/(1+(((i-20)/0.25)**2)))\\n\\nresult = fit_to_lorentzian(data)\\nshow_results(result)\\n'"
      ]
     },
     "execution_count": 67,
     "metadata": {},
     "output_type": "execute_result"
    }
   ],
   "source": [
    "#Test  \n",
    "'''\n",
    "data = np.zeros([100, 2])\n",
    "for i in range(0, 100):\n",
    "    data[i, 0] = i\n",
    "    data[i,1] = 2 * (1/(pi*0.25))*(1/(1+(((i-20)/0.25)**2)))\n",
    "\n",
    "result = fit_to_lorentzian(data)\n",
    "show_results(result)\n",
    "'''"
   ]
  },
  {
   "cell_type": "code",
   "execution_count": null,
   "metadata": {},
   "outputs": [],
   "source": []
  }
 ],
 "metadata": {
  "kernelspec": {
   "display_name": "Python 3",
   "language": "python",
   "name": "python3"
  },
  "language_info": {
   "codemirror_mode": {
    "name": "ipython",
    "version": 3
   },
   "file_extension": ".py",
   "mimetype": "text/x-python",
   "name": "python",
   "nbconvert_exporter": "python",
   "pygments_lexer": "ipython3",
   "version": "3.7.3"
  }
 },
 "nbformat": 4,
 "nbformat_minor": 2
}
