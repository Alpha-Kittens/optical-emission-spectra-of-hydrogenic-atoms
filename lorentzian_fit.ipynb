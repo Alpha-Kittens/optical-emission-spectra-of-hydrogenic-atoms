{
 "cells": [
  {
   "cell_type": "code",
   "execution_count": 26,
   "metadata": {},
   "outputs": [],
   "source": [
    "#Imports\n",
    "import numpy as np\n",
    "import csv\n",
    "import math\n",
    "import matplotlib.pyplot as plt\n",
    "import scipy.stats as stats\n",
    "from scipy.stats import norm, chi2 # normal distribution, chi squared distribution\n",
    "from numpy import exp, pi, sqrt\n",
    "import lmfit"
   ]
  },
  {
   "cell_type": "code",
   "execution_count": 43,
   "metadata": {},
   "outputs": [
    {
     "data": {
      "text/plain": [
       "'    \\ndata = np.zeros([100, 2])\\nfor i in range(0, 100):\\n    data[i, 0] = i\\n    data[i,1] = 2 * (1/(pi*0.25))*(1/(1+(((i-20)/0.25)**2)))\\n\\nfit_to_lorentzian(data)\\n'"
      ]
     },
     "execution_count": 43,
     "metadata": {},
     "output_type": "execute_result"
    }
   ],
   "source": [
    "def fit_to_lorentzian(data):\n",
    "    #type of data is numpy array w/ 2 columns\n",
    "    def Lorentzian(x, amp, cen, scale):\n",
    "        return amp * (1/(pi*scale))*(1/(1+(((x-cen)/scale)**2)))\n",
    "    \n",
    "    \n",
    "    model = lmfit.Model(Lorentzian)\n",
    "    \n",
    "    x_axis = data[:, 0]\n",
    "    y_axis = data[:, 1]\n",
    "    \n",
    "    result = model.fit(y_axis, x=x_axis, amp=1, cen=10, scale=0.5)\n",
    "    \n",
    "    lmfit.report_fit(result)\n",
    "    plt.figure()\n",
    "    plt.figure(figsize=(100, 100))\n",
    "    result.plot()\n",
    "\n",
    "#Test\n",
    "'''    \n",
    "data = np.zeros([100, 2])\n",
    "for i in range(0, 100):\n",
    "    data[i, 0] = i\n",
    "    data[i,1] = 2 * (1/(pi*0.25))*(1/(1+(((i-20)/0.25)**2)))\n",
    "\n",
    "fit_to_lorentzian(data)\n",
    "'''"
   ]
  },
  {
   "cell_type": "code",
   "execution_count": 8,
   "metadata": {},
   "outputs": [
    {
     "name": "stdout",
     "output_type": "stream",
     "text": [
      "<class 'str'>\n"
     ]
    }
   ],
   "source": []
  },
  {
   "cell_type": "code",
   "execution_count": null,
   "metadata": {},
   "outputs": [],
   "source": []
  }
 ],
 "metadata": {
  "kernelspec": {
   "display_name": "Python 3",
   "language": "python",
   "name": "python3"
  },
  "language_info": {
   "codemirror_mode": {
    "name": "ipython",
    "version": 3
   },
   "file_extension": ".py",
   "mimetype": "text/x-python",
   "name": "python",
   "nbconvert_exporter": "python",
   "pygments_lexer": "ipython3",
   "version": "3.7.3"
  }
 },
 "nbformat": 4,
 "nbformat_minor": 2
}
