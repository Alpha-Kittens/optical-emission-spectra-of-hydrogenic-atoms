{
 "cells": [
  {
   "cell_type": "code",
   "execution_count": 63,
   "metadata": {},
   "outputs": [],
   "source": [
    "#Imports\n",
    "import numpy as np\n",
    "import csv\n",
    "import math\n",
    "import matplotlib.pyplot as plt\n",
    "import scipy.stats as stats\n",
    "from scipy.stats import norm, chi2 # normal distribution, chi squared distribution\n",
    "from numpy import exp, pi, sqrt\n",
    "import lmfit"
   ]
  },
  {
   "cell_type": "code",
   "execution_count": 50,
   "metadata": {},
   "outputs": [],
   "source": [
    "def fit_to_lorentzian(data):\n",
    "    #type of data is numpy array w/ 2 columns\n",
    "    def Lorentzian(x, amp, cen, scale):\n",
    "        return amp * (1/(pi*scale))*(1/(1+(((x-cen)/scale)**2)))\n",
    "    \n",
    "    \n",
    "    model = lmfit.Model(Lorentzian)\n",
    "    \n",
    "    x_axis = data[:, 0]\n",
    "    y_axis = data[:, 1]\n",
    "    \n",
    "    result = model.fit(y_axis, x=x_axis, amp=1, cen=10, scale=0.5)\n",
    "    \n",
    "    \n",
    "    return result\n",
    "\n",
    "\n"
   ]
  },
  {
   "cell_type": "code",
   "execution_count": 59,
   "metadata": {},
   "outputs": [],
   "source": [
    "def show_results(result):\n",
    "    lmfit.report_fit(result)\n",
    "    plt.figure()\n",
    "    plt.figure(figsize=(100, 100))\n",
    "    result.plot()"
   ]
  },
  {
   "cell_type": "code",
   "execution_count": 62,
   "metadata": {},
   "outputs": [
    {
     "name": "stdout",
     "output_type": "stream",
     "text": [
      "[[Fit Statistics]]\n",
      "    # fitting method   = leastsq\n",
      "    # function evals   = 84\n",
      "    # data points      = 100\n",
      "    # variables        = 3\n",
      "    chi-square         = 1.000e-248\n",
      "    reduced chi-square = 0.00000000\n",
      "    Akaike info crit   = -57558.6273\n",
      "    Bayesian info crit = -57550.8118\n",
      "##  Warning: uncertainties could not be estimated:\n",
      "[[Variables]]\n",
      "    amp:    2.00000000 +/- 0.00000000 (0.00%) (init = 1)\n",
      "    cen:    20.0000000 +/- 0.00000000 (0.00%) (init = 10)\n",
      "    scale:  0.25000000 +/- 0.00000000 (0.00%) (init = 0.5)\n"
     ]
    },
    {
     "data": {
      "text/plain": [
       "<Figure size 432x288 with 0 Axes>"
      ]
     },
     "metadata": {},
     "output_type": "display_data"
    },
    {
     "data": {
      "text/plain": [
       "<Figure size 7200x7200 with 0 Axes>"
      ]
     },
     "metadata": {},
     "output_type": "display_data"
    },
    {
     "data": {
      "image/png": "[encoded data removed]",
      "text/plain": [
       "<Figure size 432x432 with 2 Axes>"
      ]
     },
     "metadata": {
      "needs_background": "light"
     },
     "output_type": "display_data"
    }
   ],
   "source": [
    "#Test  \n",
    "data = np.zeros([100, 2])\n",
    "for i in range(0, 100):\n",
    "    data[i, 0] = i\n",
    "    data[i,1] = 2 * (1/(pi*0.25))*(1/(1+(((i-20)/0.25)**2)))\n",
    "\n",
    "result = fit_to_lorentzian(data)\n",
    "show_results(result)"
   ]
  },
  {
   "cell_type": "code",
   "execution_count": null,
   "metadata": {},
   "outputs": [],
   "source": []
  }
 ],
 "metadata": {
  "kernelspec": {
   "display_name": "Python 3",
   "language": "python",
   "name": "python3"
  },
  "language_info": {
   "codemirror_mode": {
    "name": "ipython",
    "version": 3
   },
   "file_extension": ".py",
   "mimetype": "text/x-python",
   "name": "python",
   "nbconvert_exporter": "python",
   "pygments_lexer": "ipython3",
   "version": "3.7.3"
  }
 },
 "nbformat": 4,
 "nbformat_minor": 2
}
