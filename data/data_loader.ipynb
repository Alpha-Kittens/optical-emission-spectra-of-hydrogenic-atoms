{
 "cells": [
  {
   "cell_type": "code",
   "execution_count": 3,
   "metadata": {},
   "outputs": [],
   "source": [
    "def read_data(file_path):\n",
    "    \n",
    "    data = np.array([[0,0]])\n",
    "\n",
    "    #print (\"starting to read\")\n",
    "    \n",
    "    with open(file_path) as f:\n",
    "        \n",
    "        for row in f.readlines():\n",
    "\n",
    "            line = row.split(\"\\t\")\n",
    "\n",
    "            #print (line)\n",
    "\n",
    "            data = np.append(data, [[float(line[1]), float(line[2])]], axis = 0)\n",
    "\n",
    "    return data[1:]"
   ]
  },
  {
   "cell_type": "code",
   "execution_count": 6,
   "metadata": {},
   "outputs": [
    {
     "name": "stdout",
     "output_type": "stream",
     "text": [
      "[[3800.  450.]\n",
      " [3801.  260.]\n",
      " [3802.  410.]\n",
      " ...\n",
      " [4598.  380.]\n",
      " [4599.  430.]\n",
      " [4600.  340.]]\n"
     ]
    }
   ],
   "source": [
    "filepath = \"./day_1/calibration_scan_1_3800_4600\"\n",
    "print(read_data(filepath))"
   ]
  },
  {
   "cell_type": "code",
   "execution_count": 4,
   "metadata": {},
   "outputs": [],
   "source": [
    "import numpy as np"
   ]
  },
  {
   "cell_type": "code",
   "execution_count": null,
   "metadata": {},
   "outputs": [],
   "source": []
  }
 ],
 "metadata": {
  "kernelspec": {
   "display_name": "Python 3",
   "language": "python",
   "name": "python3"
  },
  "language_info": {
   "codemirror_mode": {
    "name": "ipython",
    "version": 3
   },
   "file_extension": ".py",
   "mimetype": "text/x-python",
   "name": "python",
   "nbconvert_exporter": "python",
   "pygments_lexer": "ipython3",
   "version": "3.7.3"
  },
  "vscode": {
   "interpreter": {
    "hash": "a5da3d6f1735e27dc4679f80836e8836513a333288dda521b9756571edcc583a"
   }
  }
 },
 "nbformat": 4,
 "nbformat_minor": 2
}
