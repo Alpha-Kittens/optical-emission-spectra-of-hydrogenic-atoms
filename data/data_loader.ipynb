{
 "cells": [
  {
   "cell_type": "code",
   "execution_count": 3,
   "metadata": {},
   "outputs": [],
   "source": [
    "def read_data(file_path):\n",
    "    \n",
    "    data = np.array([[0,0]])\n",
    "\n",
    "    #print (\"starting to read\")\n",
    "    \n",
    "    with open(file_path) as f:\n",
    "        \n",
    "        for row in f.readlines():\n",
    "\n",
    "            line = row.split(\"\\t\")\n",
    "\n",
    "            print (line)\n",
    "\n",
    "            data = np.append(data, [[float(line[1]), float(line[2])]], axis = 0)\n",
    "\n",
    "    return data[1:]"
   ]
  },
  {
   "cell_type": "code",
   "execution_count": null,
   "metadata": {},
   "outputs": [],
   "source": [
    "filepath = \"./day_1/calibration_scan_1_3800_4600\"\n",
    "print(read_data(filepath))"
   ]
  },
  {
   "cell_type": "code",
   "execution_count": null,
   "metadata": {},
   "outputs": [
    {
     "ename": "",
     "evalue": "",
     "output_type": "error",
     "traceback": [
      "\u001b[1;31mRunning cells with 'Python 3.8.2 32-bit' requires ipykernel package.\n",
      "\u001b[1;31mRun the following command to install 'ipykernel' into the Python environment. \n",
      "\u001b[1;31mCommand: 'c:/Users/eiljo/AppData/Local/Programs/Python/Python38-32/python.exe -m pip install ipykernel -U --user --force-reinstall'"
     ]
    }
   ],
   "source": [
    "import numpy as np"
   ]
  }
 ],
 "metadata": {
  "kernelspec": {
   "display_name": "Python 3.8.2 32-bit",
   "language": "python",
   "name": "python3"
  },
  "language_info": {
   "codemirror_mode": {
    "name": "ipython",
    "version": 3
   },
   "file_extension": ".py",
   "mimetype": "text/x-python",
   "name": "python",
   "nbconvert_exporter": "python",
   "pygments_lexer": "ipython3",
   "version": "3.8.2"
  },
  "vscode": {
   "interpreter": {
    "hash": "a5da3d6f1735e27dc4679f80836e8836513a333288dda521b9756571edcc583a"
   }
  }
 },
 "nbformat": 4,
 "nbformat_minor": 2
}
